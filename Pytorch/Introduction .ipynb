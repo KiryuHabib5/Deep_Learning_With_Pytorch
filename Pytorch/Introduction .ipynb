{
 "cells": [
  {
   "cell_type": "code",
   "execution_count": 1,
   "id": "environmental-explosion",
   "metadata": {},
   "outputs": [],
   "source": [
    "import torch\n",
    "import numpy as np\n",
    "from luwiji.neural_network import illustration, demo"
   ]
  },
  {
   "cell_type": "code",
   "execution_count": 2,
   "id": "aerial-diploma",
   "metadata": {},
   "outputs": [
    {
     "data": {
      "text/plain": [
       "'1.7.0'"
      ]
     },
     "execution_count": 2,
     "metadata": {},
     "output_type": "execute_result"
    }
   ],
   "source": [
    "torch.__version__"
   ]
  },
  {
   "cell_type": "markdown",
   "id": "perceived-luther",
   "metadata": {},
   "source": [
    "# Sample data"
   ]
  },
  {
   "cell_type": "code",
   "execution_count": 3,
   "id": "sunrise-check",
   "metadata": {},
   "outputs": [
    {
     "data": {
      "text/plain": [
       "array([[[241, 213,  36, 138,  35],\n",
       "        [236, 231, 243, 123,  57],\n",
       "        [ 36, 123,  24, 212,  25],\n",
       "        [ 65, 152, 191,  35, 206],\n",
       "        [127, 243, 164,  31,  19]],\n",
       "\n",
       "       [[ 26,  61, 236, 154,  19],\n",
       "        [ 30, 140,  65, 230, 239],\n",
       "        [ 45,   9, 199, 180, 100],\n",
       "        [158, 160, 198, 192, 112],\n",
       "        [ 45, 133,  97, 246, 124]],\n",
       "\n",
       "       [[ 69, 124, 197, 121, 161],\n",
       "        [ 65, 181,   5,  61,  47],\n",
       "        [100,  96, 245, 217,  81],\n",
       "        [ 39, 146,  60, 188,  77],\n",
       "        [153,   6, 136, 193, 234]]])"
      ]
     },
     "execution_count": 3,
     "metadata": {},
     "output_type": "execute_result"
    }
   ],
   "source": [
    "data = demo.example_data_1\n",
    "data"
   ]
  },
  {
   "cell_type": "markdown",
   "id": "turkish-boost",
   "metadata": {},
   "source": [
    "### Mengubah numpy array menjadi tensor"
   ]
  },
  {
   "cell_type": "code",
   "execution_count": 4,
   "id": "precise-bunny",
   "metadata": {},
   "outputs": [
    {
     "data": {
      "text/plain": [
       "tensor([[[241, 213,  36, 138,  35],\n",
       "         [236, 231, 243, 123,  57],\n",
       "         [ 36, 123,  24, 212,  25],\n",
       "         [ 65, 152, 191,  35, 206],\n",
       "         [127, 243, 164,  31,  19]],\n",
       "\n",
       "        [[ 26,  61, 236, 154,  19],\n",
       "         [ 30, 140,  65, 230, 239],\n",
       "         [ 45,   9, 199, 180, 100],\n",
       "         [158, 160, 198, 192, 112],\n",
       "         [ 45, 133,  97, 246, 124]],\n",
       "\n",
       "        [[ 69, 124, 197, 121, 161],\n",
       "         [ 65, 181,   5,  61,  47],\n",
       "         [100,  96, 245, 217,  81],\n",
       "         [ 39, 146,  60, 188,  77],\n",
       "         [153,   6, 136, 193, 234]]], dtype=torch.int32)"
      ]
     },
     "execution_count": 4,
     "metadata": {},
     "output_type": "execute_result"
    }
   ],
   "source": [
    "data_tensor = torch.tensor(data)\n",
    "data_tensor"
   ]
  },
  {
   "cell_type": "markdown",
   "id": "fewer-uncertainty",
   "metadata": {},
   "source": [
    "### mengubah kembali tensor menjadi numpy array"
   ]
  },
  {
   "cell_type": "code",
   "execution_count": 5,
   "id": "directed-transformation",
   "metadata": {},
   "outputs": [
    {
     "data": {
      "text/plain": [
       "array([[[241, 213,  36, 138,  35],\n",
       "        [236, 231, 243, 123,  57],\n",
       "        [ 36, 123,  24, 212,  25],\n",
       "        [ 65, 152, 191,  35, 206],\n",
       "        [127, 243, 164,  31,  19]],\n",
       "\n",
       "       [[ 26,  61, 236, 154,  19],\n",
       "        [ 30, 140,  65, 230, 239],\n",
       "        [ 45,   9, 199, 180, 100],\n",
       "        [158, 160, 198, 192, 112],\n",
       "        [ 45, 133,  97, 246, 124]],\n",
       "\n",
       "       [[ 69, 124, 197, 121, 161],\n",
       "        [ 65, 181,   5,  61,  47],\n",
       "        [100,  96, 245, 217,  81],\n",
       "        [ 39, 146,  60, 188,  77],\n",
       "        [153,   6, 136, 193, 234]]])"
      ]
     },
     "execution_count": 5,
     "metadata": {},
     "output_type": "execute_result"
    }
   ],
   "source": [
    "data_tensor.numpy()"
   ]
  },
  {
   "cell_type": "markdown",
   "id": "undefined-encounter",
   "metadata": {},
   "source": [
    "###  Cek ukuran dari tensor"
   ]
  },
  {
   "cell_type": "code",
   "execution_count": 6,
   "id": "nominated-presence",
   "metadata": {},
   "outputs": [
    {
     "data": {
      "text/plain": [
       "torch.Size([3, 5, 5])"
      ]
     },
     "execution_count": 6,
     "metadata": {},
     "output_type": "execute_result"
    }
   ],
   "source": [
    "data_tensor.shape"
   ]
  },
  {
   "cell_type": "markdown",
   "id": "involved-confusion",
   "metadata": {},
   "source": [
    "tensor orde 3 dengan ukuran 5x5"
   ]
  },
  {
   "cell_type": "markdown",
   "id": "final-capacity",
   "metadata": {},
   "source": [
    "### Format tensor pada pytorch harus NCHW"
   ]
  },
  {
   "cell_type": "markdown",
   "id": "ranging-sociology",
   "metadata": {},
   "source": [
    "`N` untuk Banyak data, `C` untuk chanel/ orde tensor, `H` untuk height dan `W` untuk width"
   ]
  },
  {
   "cell_type": "code",
   "execution_count": 7,
   "id": "traditional-volume",
   "metadata": {},
   "outputs": [
    {
     "data": {
      "text/plain": [
       "tensor([[[[241, 213,  36, 138,  35],\n",
       "          [236, 231, 243, 123,  57],\n",
       "          [ 36, 123,  24, 212,  25],\n",
       "          [ 65, 152, 191,  35, 206],\n",
       "          [127, 243, 164,  31,  19]],\n",
       "\n",
       "         [[ 26,  61, 236, 154,  19],\n",
       "          [ 30, 140,  65, 230, 239],\n",
       "          [ 45,   9, 199, 180, 100],\n",
       "          [158, 160, 198, 192, 112],\n",
       "          [ 45, 133,  97, 246, 124]],\n",
       "\n",
       "         [[ 69, 124, 197, 121, 161],\n",
       "          [ 65, 181,   5,  61,  47],\n",
       "          [100,  96, 245, 217,  81],\n",
       "          [ 39, 146,  60, 188,  77],\n",
       "          [153,   6, 136, 193, 234]]]], dtype=torch.int32)"
      ]
     },
     "execution_count": 7,
     "metadata": {},
     "output_type": "execute_result"
    }
   ],
   "source": [
    "data_tensor = data_tensor.view(1,3,5,5)\n",
    "data_tensor"
   ]
  },
  {
   "cell_type": "code",
   "execution_count": 8,
   "id": "offensive-dairy",
   "metadata": {},
   "outputs": [
    {
     "data": {
      "text/plain": [
       "torch.Size([1, 3, 5, 5])"
      ]
     },
     "execution_count": 8,
     "metadata": {},
     "output_type": "execute_result"
    }
   ],
   "source": [
    "data_tensor.shape"
   ]
  },
  {
   "cell_type": "markdown",
   "id": "designing-beach",
   "metadata": {},
   "source": [
    "### Konversi tensor ke list biasa"
   ]
  },
  {
   "cell_type": "code",
   "execution_count": 9,
   "id": "frozen-recycling",
   "metadata": {},
   "outputs": [
    {
     "data": {
      "text/plain": [
       "[[[[241, 213, 36, 138, 35],\n",
       "   [236, 231, 243, 123, 57],\n",
       "   [36, 123, 24, 212, 25],\n",
       "   [65, 152, 191, 35, 206],\n",
       "   [127, 243, 164, 31, 19]],\n",
       "  [[26, 61, 236, 154, 19],\n",
       "   [30, 140, 65, 230, 239],\n",
       "   [45, 9, 199, 180, 100],\n",
       "   [158, 160, 198, 192, 112],\n",
       "   [45, 133, 97, 246, 124]],\n",
       "  [[69, 124, 197, 121, 161],\n",
       "   [65, 181, 5, 61, 47],\n",
       "   [100, 96, 245, 217, 81],\n",
       "   [39, 146, 60, 188, 77],\n",
       "   [153, 6, 136, 193, 234]]]]"
      ]
     },
     "execution_count": 9,
     "metadata": {},
     "output_type": "execute_result"
    }
   ],
   "source": [
    "data_list = data_tensor.tolist()\n",
    "data_list"
   ]
  },
  {
   "cell_type": "code",
   "execution_count": 10,
   "id": "basic-father",
   "metadata": {},
   "outputs": [
    {
     "data": {
      "text/plain": [
       "tensor(10)"
      ]
     },
     "execution_count": 10,
     "metadata": {},
     "output_type": "execute_result"
    }
   ],
   "source": [
    "tensor_skalar = torch.tensor(10)\n",
    "tensor_skalar"
   ]
  },
  {
   "cell_type": "code",
   "execution_count": 11,
   "id": "piano-chassis",
   "metadata": {},
   "outputs": [
    {
     "data": {
      "text/plain": [
       "10"
      ]
     },
     "execution_count": 11,
     "metadata": {},
     "output_type": "execute_result"
    }
   ],
   "source": [
    "tensor_skalar.item()"
   ]
  },
  {
   "cell_type": "markdown",
   "id": "fifth-width",
   "metadata": {},
   "source": [
    "### CPU dan GPU"
   ]
  },
  {
   "cell_type": "code",
   "execution_count": 12,
   "id": "consecutive-blast",
   "metadata": {},
   "outputs": [
    {
     "data": {
      "text/plain": [
       "tensor([[[[241, 213,  36, 138,  35],\n",
       "          [236, 231, 243, 123,  57],\n",
       "          [ 36, 123,  24, 212,  25],\n",
       "          [ 65, 152, 191,  35, 206],\n",
       "          [127, 243, 164,  31,  19]],\n",
       "\n",
       "         [[ 26,  61, 236, 154,  19],\n",
       "          [ 30, 140,  65, 230, 239],\n",
       "          [ 45,   9, 199, 180, 100],\n",
       "          [158, 160, 198, 192, 112],\n",
       "          [ 45, 133,  97, 246, 124]],\n",
       "\n",
       "         [[ 69, 124, 197, 121, 161],\n",
       "          [ 65, 181,   5,  61,  47],\n",
       "          [100,  96, 245, 217,  81],\n",
       "          [ 39, 146,  60, 188,  77],\n",
       "          [153,   6, 136, 193, 234]]]], dtype=torch.int32)"
      ]
     },
     "execution_count": 12,
     "metadata": {},
     "output_type": "execute_result"
    }
   ],
   "source": [
    "data_tensor.cpu()"
   ]
  },
  {
   "cell_type": "code",
   "execution_count": 13,
   "id": "protected-canberra",
   "metadata": {},
   "outputs": [
    {
     "data": {
      "text/plain": [
       "tensor([[[[241, 213,  36, 138,  35],\n",
       "          [236, 231, 243, 123,  57],\n",
       "          [ 36, 123,  24, 212,  25],\n",
       "          [ 65, 152, 191,  35, 206],\n",
       "          [127, 243, 164,  31,  19]],\n",
       "\n",
       "         [[ 26,  61, 236, 154,  19],\n",
       "          [ 30, 140,  65, 230, 239],\n",
       "          [ 45,   9, 199, 180, 100],\n",
       "          [158, 160, 198, 192, 112],\n",
       "          [ 45, 133,  97, 246, 124]],\n",
       "\n",
       "         [[ 69, 124, 197, 121, 161],\n",
       "          [ 65, 181,   5,  61,  47],\n",
       "          [100,  96, 245, 217,  81],\n",
       "          [ 39, 146,  60, 188,  77],\n",
       "          [153,   6, 136, 193, 234]]]], device='cuda:0', dtype=torch.int32)"
      ]
     },
     "execution_count": 13,
     "metadata": {},
     "output_type": "execute_result"
    }
   ],
   "source": [
    "data_tensor.cuda()"
   ]
  },
  {
   "cell_type": "markdown",
   "id": "separate-america",
   "metadata": {},
   "source": [
    "# Mengatur tipe data tensor"
   ]
  },
  {
   "cell_type": "markdown",
   "id": "blank-failure",
   "metadata": {},
   "source": [
    "###  integer (bilangan bulat)"
   ]
  },
  {
   "cell_type": "code",
   "execution_count": 16,
   "id": "extended-hawaii",
   "metadata": {},
   "outputs": [
    {
     "data": {
      "text/plain": [
       "tensor([[[241, 213,  36, 138,  35],\n",
       "         [236, 231, 243, 123,  57],\n",
       "         [ 36, 123,  24, 212,  25],\n",
       "         [ 65, 152, 191,  35, 206],\n",
       "         [127, 243, 164,  31,  19]],\n",
       "\n",
       "        [[ 26,  61, 236, 154,  19],\n",
       "         [ 30, 140,  65, 230, 239],\n",
       "         [ 45,   9, 199, 180, 100],\n",
       "         [158, 160, 198, 192, 112],\n",
       "         [ 45, 133,  97, 246, 124]],\n",
       "\n",
       "        [[ 69, 124, 197, 121, 161],\n",
       "         [ 65, 181,   5,  61,  47],\n",
       "         [100,  96, 245, 217,  81],\n",
       "         [ 39, 146,  60, 188,  77],\n",
       "         [153,   6, 136, 193, 234]]])"
      ]
     },
     "execution_count": 16,
     "metadata": {},
     "output_type": "execute_result"
    }
   ],
   "source": [
    "torch.LongTensor(data)"
   ]
  },
  {
   "cell_type": "markdown",
   "id": "abstract-genesis",
   "metadata": {},
   "source": [
    "### Float"
   ]
  },
  {
   "cell_type": "code",
   "execution_count": 17,
   "id": "major-watershed",
   "metadata": {},
   "outputs": [
    {
     "data": {
      "text/plain": [
       "tensor([[[241., 213.,  36., 138.,  35.],\n",
       "         [236., 231., 243., 123.,  57.],\n",
       "         [ 36., 123.,  24., 212.,  25.],\n",
       "         [ 65., 152., 191.,  35., 206.],\n",
       "         [127., 243., 164.,  31.,  19.]],\n",
       "\n",
       "        [[ 26.,  61., 236., 154.,  19.],\n",
       "         [ 30., 140.,  65., 230., 239.],\n",
       "         [ 45.,   9., 199., 180., 100.],\n",
       "         [158., 160., 198., 192., 112.],\n",
       "         [ 45., 133.,  97., 246., 124.]],\n",
       "\n",
       "        [[ 69., 124., 197., 121., 161.],\n",
       "         [ 65., 181.,   5.,  61.,  47.],\n",
       "         [100.,  96., 245., 217.,  81.],\n",
       "         [ 39., 146.,  60., 188.,  77.],\n",
       "         [153.,   6., 136., 193., 234.]]])"
      ]
     },
     "execution_count": 17,
     "metadata": {},
     "output_type": "execute_result"
    }
   ],
   "source": [
    "torch.FloatTensor(data)"
   ]
  },
  {
   "cell_type": "code",
   "execution_count": null,
   "id": "smooth-concrete",
   "metadata": {},
   "outputs": [],
   "source": []
  }
 ],
 "metadata": {
  "kernelspec": {
   "display_name": "Python [conda env:jcopdl]",
   "language": "python",
   "name": "conda-env-jcopdl-py"
  },
  "language_info": {
   "codemirror_mode": {
    "name": "ipython",
    "version": 3
   },
   "file_extension": ".py",
   "mimetype": "text/x-python",
   "name": "python",
   "nbconvert_exporter": "python",
   "pygments_lexer": "ipython3",
   "version": "3.7.6"
  }
 },
 "nbformat": 4,
 "nbformat_minor": 5
}
