{
 "cells": [
  {
   "cell_type": "markdown",
   "id": "transparent-paste",
   "metadata": {},
   "source": [
    "# Random Sample Data"
   ]
  },
  {
   "cell_type": "code",
   "execution_count": 4,
   "id": "lyric-collectible",
   "metadata": {},
   "outputs": [
    {
     "data": {
      "text/plain": [
       "((400, 4), (100, 4), (400, 3), (100, 3))"
      ]
     },
     "execution_count": 4,
     "metadata": {},
     "output_type": "execute_result"
    }
   ],
   "source": [
    "import numpy as np\n",
    "from sklearn.model_selection import train_test_split\n",
    "\n",
    "X = np.random.rand(500, 4)\n",
    "y = np.random.rand(500, 3)\n",
    "\n",
    "X_train, X_test, y_train, y_test = train_test_split(X, y, test_size=0.2, random_state=42)\n",
    "X_train.shape, X_test.shape, y_train.shape, y_test.shape"
   ]
  },
  {
   "cell_type": "markdown",
   "id": "animal-beaver",
   "metadata": {},
   "source": [
    "# Step 1: Dataset & dataloader"
   ]
  },
  {
   "cell_type": "code",
   "execution_count": 5,
   "id": "random-faith",
   "metadata": {},
   "outputs": [
    {
     "data": {
      "text/plain": [
       "device(type='cuda')"
      ]
     },
     "execution_count": 5,
     "metadata": {},
     "output_type": "execute_result"
    }
   ],
   "source": [
    "import torch\n",
    "from torch.utils.data import TensorDataset, DataLoader\n",
    "from torch import nn, optim\n",
    "from jcopdl.callback import Callback, set_config\n",
    "\n",
    "device = torch.device(\"cuda\" if torch.cuda.is_available() else \"cpu\")\n",
    "device"
   ]
  },
  {
   "cell_type": "code",
   "execution_count": 26,
   "id": "wicked-tucson",
   "metadata": {},
   "outputs": [],
   "source": [
    "X_train = torch.Tensor(X_train)\n",
    "X_test = torch.Tensor(X_test)\n",
    "\n",
    "y_train = torch.Tensor(y_train)\n",
    "y_test = torch.Tensor(y_test)"
   ]
  },
  {
   "cell_type": "code",
   "execution_count": 27,
   "id": "acute-sequence",
   "metadata": {},
   "outputs": [],
   "source": [
    "train_set    = TensorDataset(X_train, y_train)\n",
    "train_loader = DataLoader(train_set, batch_size=32, shuffle=True)\n",
    "\n",
    "test_set     = TensorDataset(X_test, y_test)\n",
    "test_loader  = DataLoader(test_set, batch_size=32, shuffle=True)"
   ]
  },
  {
   "cell_type": "markdown",
   "id": "ambient-property",
   "metadata": {},
   "source": [
    "# Step 2 Bangun Arsitektur & config"
   ]
  },
  {
   "cell_type": "code",
   "execution_count": 28,
   "id": "northern-battery",
   "metadata": {},
   "outputs": [],
   "source": [
    "from torch import nn\n",
    "from jcopdl.layers import linear_block\n",
    "#\n",
    "#def linear_block(n_in, n_out, batch_norm=False, activation='relu', dropout=0.):\n",
    "#    \"\"\"\n",
    "#    available activation {relu, lrelu, sigmoid, tanh, elu, selu, softmax, lsoftmax}\n",
    "#    \"\"\"\n",
    "#    layers = [nn.Linear(n_in, n_out)]\n",
    "#\n",
    "#    if batch_norm:\n",
    "#        layers.append(nn.BatchNorm1d(n_out))\n",
    "#\n",
    "#    if activation in _act_func:\n",
    "#        layers.append(_act_func[activation])\n",
    "#    else:\n",
    "#        raise Exception(f\"jcopdl supports ({', '.join(_act_func.keys())})\")\n",
    "#\n",
    "#    if 0 < dropout <= 1:\n",
    "#        layers.append(nn.Dropout(dropout))\n",
    "#    return nn.Sequential(*layers)"
   ]
  },
  {
   "cell_type": "code",
   "execution_count": 29,
   "id": "unknown-ability",
   "metadata": {},
   "outputs": [
    {
     "data": {
      "text/plain": [
       "[0, 1, 2, 3, 4]"
      ]
     },
     "execution_count": 29,
     "metadata": {},
     "output_type": "execute_result"
    }
   ],
   "source": [
    "[i for i in range(5)]"
   ]
  },
  {
   "cell_type": "code",
   "execution_count": 30,
   "id": "diagnostic-equation",
   "metadata": {},
   "outputs": [],
   "source": [
    "class customNeuralNetwork(nn.Module):\n",
    "    def __init__(self, input_Size, n_neuron, output, activation='relu', activation_output='lsoftmax', batch_norm=False, drop=0.2):\n",
    "        super().__init__()\n",
    "        if type(n_neuron) != list:\n",
    "            n_neuron = list(n_neuron)\n",
    "        all_neuron=[input_Size]+n_neuron+[output]\n",
    "        seq = []\n",
    "        for i in range(len(all_neuron)-1):\n",
    "            if i != len(all_neuron)-2:\n",
    "                seq.append(linear_block(all_neuron[i], all_neuron[i+1], activation=activation, dropout=drop, batch_norm=batch_norm))\n",
    "            else:\n",
    "                seq.append(linear_block(all_neuron[i], all_neuron[i+1], activation=activation_output, batch_norm=batch_norm))\n",
    "\n",
    "        #try:\n",
    "        #    seq = [linear_block(all_neuron[i], all_neuron[i+1], activation=activation, dropout=drop, batch_norm=batch_norm) for i in range(len(all_neuron)-1)]\n",
    "        #except Exception as e:\n",
    "        #    print(e)\n",
    "        #print(seq)\n",
    "        self.fc = nn.Sequential(\n",
    "            *seq\n",
    "        )\n",
    "    def forward(self, x):\n",
    "        return self.fc(x)"
   ]
  },
  {
   "cell_type": "code",
   "execution_count": 31,
   "id": "smaller-cambodia",
   "metadata": {},
   "outputs": [],
   "source": [
    "config = set_config({\n",
    "    \"input_size\": 4,\n",
    "    \"n\": (3,4),\n",
    "    \"output_size\": 3,\n",
    "    \"dropout\": 0.2,\n",
    "    \"activation_output\":'sigmoid'\n",
    "})"
   ]
  },
  {
   "cell_type": "markdown",
   "id": "understood-forward",
   "metadata": {},
   "source": [
    "# Step 2 Training Preparation"
   ]
  },
  {
   "cell_type": "markdown",
   "id": "iraqi-breach",
   "metadata": {},
   "source": [
    "### Model"
   ]
  },
  {
   "cell_type": "code",
   "execution_count": 32,
   "id": "welcome-drink",
   "metadata": {},
   "outputs": [],
   "source": [
    "model = customNeuralNetwork(\n",
    "    input_Size=config.input_size,\n",
    "    n_neuron = config.n,\n",
    "    output=config.output_size,\n",
    "    activation_output=config.activation_output,\n",
    "    drop=config.dropout\n",
    ").to(device)"
   ]
  },
  {
   "cell_type": "code",
   "execution_count": 33,
   "id": "numerical-donor",
   "metadata": {},
   "outputs": [
    {
     "data": {
      "text/plain": [
       "customNeuralNetwork(\n",
       "  (fc): Sequential(\n",
       "    (0): Sequential(\n",
       "      (0): Linear(in_features=4, out_features=3, bias=True)\n",
       "      (1): ReLU()\n",
       "      (2): Dropout(p=0.2, inplace=False)\n",
       "    )\n",
       "    (1): Sequential(\n",
       "      (0): Linear(in_features=3, out_features=4, bias=True)\n",
       "      (1): ReLU()\n",
       "      (2): Dropout(p=0.2, inplace=False)\n",
       "    )\n",
       "    (2): Sequential(\n",
       "      (0): Linear(in_features=4, out_features=3, bias=True)\n",
       "      (1): Sigmoid()\n",
       "    )\n",
       "  )\n",
       ")"
      ]
     },
     "execution_count": 33,
     "metadata": {},
     "output_type": "execute_result"
    }
   ],
   "source": [
    "model"
   ]
  },
  {
   "cell_type": "markdown",
   "id": "potential-category",
   "metadata": {},
   "source": [
    "## Criterion"
   ]
  },
  {
   "cell_type": "code",
   "execution_count": 34,
   "id": "sunrise-colonial",
   "metadata": {},
   "outputs": [],
   "source": [
    "#criterion = nn.MSELoss() # model diakhiri Linear -> untuk regresi\n",
    "#criterion = nn.NLLLoss() # model diakhiri logsoftmax -> multiclass clf\n",
    "criterion = nn.BCELoss() # model diakhiri sigmoid -> binary clf, multilabel clf"
   ]
  },
  {
   "cell_type": "markdown",
   "id": "liquid-angel",
   "metadata": {},
   "source": [
    "### Optimizer "
   ]
  },
  {
   "cell_type": "code",
   "execution_count": 35,
   "id": "working-river",
   "metadata": {},
   "outputs": [],
   "source": [
    "optimizer = optim.AdamW(model.parameters(), lr=0.001)"
   ]
  },
  {
   "cell_type": "markdown",
   "id": "opposite-shooting",
   "metadata": {},
   "source": [
    "### Callback"
   ]
  },
  {
   "cell_type": "code",
   "execution_count": 36,
   "id": "designed-rates",
   "metadata": {},
   "outputs": [],
   "source": [
    "callback = Callback(model, config, outdir=\"model\")"
   ]
  },
  {
   "cell_type": "markdown",
   "id": "informed-width",
   "metadata": {},
   "source": [
    "# Step 4 traing"
   ]
  },
  {
   "cell_type": "code",
   "execution_count": 37,
   "id": "champion-thermal",
   "metadata": {},
   "outputs": [],
   "source": [
    "from tqdm.auto import tqdm"
   ]
  },
  {
   "cell_type": "code",
   "execution_count": 40,
   "id": "dependent-senior",
   "metadata": {},
   "outputs": [
    {
     "name": "stdout",
     "output_type": "stream",
     "text": [
      "Epoch:  500/ 500 | train_cost: 0.6924   "
     ]
    }
   ],
   "source": [
    "epochs = 500\n",
    "train_cost = []\n",
    "for i in range(epochs):\n",
    "    model.train()\n",
    "    cost = 0\n",
    "    for feature, target in train_loader:\n",
    "        output = model(feature.to(device)) # feedforward\n",
    "        loss = criterion(output, target.to(device))\n",
    "        loss.backward() # backprop\n",
    "\n",
    "        optimizer.step() #update weight\n",
    "        optimizer.zero_grad()\n",
    "        \n",
    "        cost += loss.item() * feature.shape[0]\n",
    "    train_cost.append(cost / len(train_set))\n",
    "        \n",
    "    print(f\"\\rEpoch: {i+1:4}/{epochs:4} | train_cost: {train_cost[-1]:.4f}\", end=\" \")"
   ]
  },
  {
   "cell_type": "code",
   "execution_count": 41,
   "id": "substantial-rover",
   "metadata": {},
   "outputs": [
    {
     "data": {
      "text/plain": [
       "[<matplotlib.lines.Line2D at 0x17b90d36408>]"
      ]
     },
     "execution_count": 41,
     "metadata": {},
     "output_type": "execute_result"
    },
    {
     "data": {
      "image/png": "[encoded data removed]",
      "text/plain": [
       "<Figure size 432x288 with 1 Axes>"
      ]
     },
     "metadata": {
      "needs_background": "light"
     },
     "output_type": "display_data"
    }
   ],
   "source": [
    "import matplotlib.pyplot as plt\n",
    "\n",
    "plt.plot(train_cost)"
   ]
  },
  {
   "cell_type": "code",
   "execution_count": null,
   "id": "amazing-profile",
   "metadata": {},
   "outputs": [],
   "source": []
  }
 ],
 "metadata": {
  "kernelspec": {
   "display_name": "Python [conda env:jcopdl]",
   "language": "python",
   "name": "conda-env-jcopdl-py"
  },
  "language_info": {
   "codemirror_mode": {
    "name": "ipython",
    "version": 3
   },
   "file_extension": ".py",
   "mimetype": "text/x-python",
   "name": "python",
   "nbconvert_exporter": "python",
   "pygments_lexer": "ipython3",
   "version": "3.7.6"
  }
 },
 "nbformat": 4,
 "nbformat_minor": 5
}
